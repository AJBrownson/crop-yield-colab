{
  "nbformat": 4,
  "nbformat_minor": 0,
  "metadata": {
    "colab": {
      "provenance": [],
      "authorship_tag": "ABX9TyOpbv7NhW46eCKQOIULhGl8",
      "include_colab_link": true
    },
    "kernelspec": {
      "name": "python3",
      "display_name": "Python 3"
    },
    "language_info": {
      "name": "python"
    }
  },
  "cells": [
    {
      "cell_type": "markdown",
      "metadata": {
        "id": "view-in-github",
        "colab_type": "text"
      },
      "source": [
        "<a href=\"https://colab.research.google.com/github/AJBrownson/crop-yield-colab/blob/dev/CassavaSynthetics.ipynb\" target=\"_parent\"><img src=\"https://colab.research.google.com/assets/colab-badge.svg\" alt=\"Open In Colab\"/></a>"
      ]
    },
    {
      "cell_type": "code",
      "source": [
        "!pip install sdv pandas numpy"
      ],
      "metadata": {
        "colab": {
          "base_uri": "https://localhost:8080/"
        },
        "id": "NIq5_siMdae3",
        "outputId": "a77f2872-0ef7-4e4e-f572-037212604ca0"
      },
      "execution_count": 1,
      "outputs": [
        {
          "output_type": "stream",
          "name": "stdout",
          "text": [
            "Requirement already satisfied: sdv in /usr/local/lib/python3.11/dist-packages (1.22.1)\n",
            "Requirement already satisfied: pandas in /usr/local/lib/python3.11/dist-packages (2.2.2)\n",
            "Requirement already satisfied: numpy in /usr/local/lib/python3.11/dist-packages (2.0.2)\n",
            "Requirement already satisfied: boto3<2.0.0,>=1.28 in /usr/local/lib/python3.11/dist-packages (from sdv) (1.38.33)\n",
            "Requirement already satisfied: botocore<2.0.0,>=1.31 in /usr/local/lib/python3.11/dist-packages (from sdv) (1.38.33)\n",
            "Requirement already satisfied: cloudpickle>=2.1.0 in /usr/local/lib/python3.11/dist-packages (from sdv) (3.1.1)\n",
            "Requirement already satisfied: graphviz>=0.13.2 in /usr/local/lib/python3.11/dist-packages (from sdv) (0.20.3)\n",
            "Requirement already satisfied: tqdm>=4.29 in /usr/local/lib/python3.11/dist-packages (from sdv) (4.67.1)\n",
            "Requirement already satisfied: copulas>=0.12.1 in /usr/local/lib/python3.11/dist-packages (from sdv) (0.12.2)\n",
            "Requirement already satisfied: ctgan>=0.11.0 in /usr/local/lib/python3.11/dist-packages (from sdv) (0.11.0)\n",
            "Requirement already satisfied: deepecho>=0.7.0 in /usr/local/lib/python3.11/dist-packages (from sdv) (0.7.0)\n",
            "Requirement already satisfied: rdt>=1.17.0 in /usr/local/lib/python3.11/dist-packages (from sdv) (1.17.0)\n",
            "Requirement already satisfied: sdmetrics>=0.21.0 in /usr/local/lib/python3.11/dist-packages (from sdv) (0.21.0)\n",
            "Requirement already satisfied: platformdirs>=4.0 in /usr/local/lib/python3.11/dist-packages (from sdv) (4.3.8)\n",
            "Requirement already satisfied: pyyaml>=6.0.1 in /usr/local/lib/python3.11/dist-packages (from sdv) (6.0.2)\n",
            "Requirement already satisfied: python-dateutil>=2.8.2 in /usr/local/lib/python3.11/dist-packages (from pandas) (2.9.0.post0)\n",
            "Requirement already satisfied: pytz>=2020.1 in /usr/local/lib/python3.11/dist-packages (from pandas) (2025.2)\n",
            "Requirement already satisfied: tzdata>=2022.7 in /usr/local/lib/python3.11/dist-packages (from pandas) (2025.2)\n",
            "Requirement already satisfied: jmespath<2.0.0,>=0.7.1 in /usr/local/lib/python3.11/dist-packages (from boto3<2.0.0,>=1.28->sdv) (1.0.1)\n",
            "Requirement already satisfied: s3transfer<0.14.0,>=0.13.0 in /usr/local/lib/python3.11/dist-packages (from boto3<2.0.0,>=1.28->sdv) (0.13.0)\n",
            "Requirement already satisfied: urllib3!=2.2.0,<3,>=1.25.4 in /usr/local/lib/python3.11/dist-packages (from botocore<2.0.0,>=1.31->sdv) (2.4.0)\n",
            "Requirement already satisfied: plotly>=5.10.0 in /usr/local/lib/python3.11/dist-packages (from copulas>=0.12.1->sdv) (5.24.1)\n",
            "Requirement already satisfied: scipy>=1.9.2 in /usr/local/lib/python3.11/dist-packages (from copulas>=0.12.1->sdv) (1.15.3)\n",
            "Requirement already satisfied: torch>=2.0.0 in /usr/local/lib/python3.11/dist-packages (from ctgan>=0.11.0->sdv) (2.6.0+cu124)\n",
            "Requirement already satisfied: six>=1.5 in /usr/local/lib/python3.11/dist-packages (from python-dateutil>=2.8.2->pandas) (1.17.0)\n",
            "Requirement already satisfied: scikit-learn>=1.1.3 in /usr/local/lib/python3.11/dist-packages (from rdt>=1.17.0->sdv) (1.6.1)\n",
            "Requirement already satisfied: Faker>=17 in /usr/local/lib/python3.11/dist-packages (from rdt>=1.17.0->sdv) (37.3.0)\n",
            "Requirement already satisfied: tenacity>=6.2.0 in /usr/local/lib/python3.11/dist-packages (from plotly>=5.10.0->copulas>=0.12.1->sdv) (9.1.2)\n",
            "Requirement already satisfied: packaging in /usr/local/lib/python3.11/dist-packages (from plotly>=5.10.0->copulas>=0.12.1->sdv) (24.2)\n",
            "Requirement already satisfied: joblib>=1.2.0 in /usr/local/lib/python3.11/dist-packages (from scikit-learn>=1.1.3->rdt>=1.17.0->sdv) (1.5.1)\n",
            "Requirement already satisfied: threadpoolctl>=3.1.0 in /usr/local/lib/python3.11/dist-packages (from scikit-learn>=1.1.3->rdt>=1.17.0->sdv) (3.6.0)\n",
            "Requirement already satisfied: filelock in /usr/local/lib/python3.11/dist-packages (from torch>=2.0.0->ctgan>=0.11.0->sdv) (3.18.0)\n",
            "Requirement already satisfied: typing-extensions>=4.10.0 in /usr/local/lib/python3.11/dist-packages (from torch>=2.0.0->ctgan>=0.11.0->sdv) (4.14.0)\n",
            "Requirement already satisfied: networkx in /usr/local/lib/python3.11/dist-packages (from torch>=2.0.0->ctgan>=0.11.0->sdv) (3.5)\n",
            "Requirement already satisfied: jinja2 in /usr/local/lib/python3.11/dist-packages (from torch>=2.0.0->ctgan>=0.11.0->sdv) (3.1.6)\n",
            "Requirement already satisfied: fsspec in /usr/local/lib/python3.11/dist-packages (from torch>=2.0.0->ctgan>=0.11.0->sdv) (2025.3.2)\n",
            "Requirement already satisfied: nvidia-cuda-nvrtc-cu12==12.4.127 in /usr/local/lib/python3.11/dist-packages (from torch>=2.0.0->ctgan>=0.11.0->sdv) (12.4.127)\n",
            "Requirement already satisfied: nvidia-cuda-runtime-cu12==12.4.127 in /usr/local/lib/python3.11/dist-packages (from torch>=2.0.0->ctgan>=0.11.0->sdv) (12.4.127)\n",
            "Requirement already satisfied: nvidia-cuda-cupti-cu12==12.4.127 in /usr/local/lib/python3.11/dist-packages (from torch>=2.0.0->ctgan>=0.11.0->sdv) (12.4.127)\n",
            "Requirement already satisfied: nvidia-cudnn-cu12==9.1.0.70 in /usr/local/lib/python3.11/dist-packages (from torch>=2.0.0->ctgan>=0.11.0->sdv) (9.1.0.70)\n",
            "Requirement already satisfied: nvidia-cublas-cu12==12.4.5.8 in /usr/local/lib/python3.11/dist-packages (from torch>=2.0.0->ctgan>=0.11.0->sdv) (12.4.5.8)\n",
            "Requirement already satisfied: nvidia-cufft-cu12==11.2.1.3 in /usr/local/lib/python3.11/dist-packages (from torch>=2.0.0->ctgan>=0.11.0->sdv) (11.2.1.3)\n",
            "Requirement already satisfied: nvidia-curand-cu12==10.3.5.147 in /usr/local/lib/python3.11/dist-packages (from torch>=2.0.0->ctgan>=0.11.0->sdv) (10.3.5.147)\n",
            "Requirement already satisfied: nvidia-cusolver-cu12==11.6.1.9 in /usr/local/lib/python3.11/dist-packages (from torch>=2.0.0->ctgan>=0.11.0->sdv) (11.6.1.9)\n",
            "Requirement already satisfied: nvidia-cusparse-cu12==12.3.1.170 in /usr/local/lib/python3.11/dist-packages (from torch>=2.0.0->ctgan>=0.11.0->sdv) (12.3.1.170)\n",
            "Requirement already satisfied: nvidia-cusparselt-cu12==0.6.2 in /usr/local/lib/python3.11/dist-packages (from torch>=2.0.0->ctgan>=0.11.0->sdv) (0.6.2)\n",
            "Requirement already satisfied: nvidia-nccl-cu12==2.21.5 in /usr/local/lib/python3.11/dist-packages (from torch>=2.0.0->ctgan>=0.11.0->sdv) (2.21.5)\n",
            "Requirement already satisfied: nvidia-nvtx-cu12==12.4.127 in /usr/local/lib/python3.11/dist-packages (from torch>=2.0.0->ctgan>=0.11.0->sdv) (12.4.127)\n",
            "Requirement already satisfied: nvidia-nvjitlink-cu12==12.4.127 in /usr/local/lib/python3.11/dist-packages (from torch>=2.0.0->ctgan>=0.11.0->sdv) (12.4.127)\n",
            "Requirement already satisfied: triton==3.2.0 in /usr/local/lib/python3.11/dist-packages (from torch>=2.0.0->ctgan>=0.11.0->sdv) (3.2.0)\n",
            "Requirement already satisfied: sympy==1.13.1 in /usr/local/lib/python3.11/dist-packages (from torch>=2.0.0->ctgan>=0.11.0->sdv) (1.13.1)\n",
            "Requirement already satisfied: mpmath<1.4,>=1.1.0 in /usr/local/lib/python3.11/dist-packages (from sympy==1.13.1->torch>=2.0.0->ctgan>=0.11.0->sdv) (1.3.0)\n",
            "Requirement already satisfied: MarkupSafe>=2.0 in /usr/local/lib/python3.11/dist-packages (from jinja2->torch>=2.0.0->ctgan>=0.11.0->sdv) (3.0.2)\n"
          ]
        }
      ]
    },
    {
      "cell_type": "code",
      "source": [
        "import pandas as pd\n",
        "from sdv.single_table import GaussianCopulaSynthesizer\n",
        "from sdv.metadata import Metadata\n",
        "\n",
        "data = pd.read_csv('CASSAVA.csv')\n",
        "metadata = Metadata.detect_from_dataframe(data)\n",
        "\n",
        "synthesizer = GaussianCopulaSynthesizer(metadata)\n",
        "synthesizer.fit(data)\n",
        "synthetic_data = synthesizer.sample(num_rows=1000)\n",
        "\n",
        "# Save to CSV\n",
        "synthetic_data.to_csv('CASSAVA_synthetic.csv', index=False)"
      ],
      "metadata": {
        "colab": {
          "base_uri": "https://localhost:8080/"
        },
        "id": "q0DcnvQggEgo",
        "outputId": "740e669d-dbf9-4ba1-b604-82fddc254ac2"
      },
      "execution_count": 2,
      "outputs": [
        {
          "output_type": "stream",
          "name": "stderr",
          "text": [
            "/usr/local/lib/python3.11/dist-packages/sdv/single_table/base.py:128: UserWarning: We strongly recommend saving the metadata using 'save_to_json' for replicability in future SDV versions.\n",
            "  warnings.warn(\n"
          ]
        }
      ]
    },
    {
      "cell_type": "code",
      "source": [
        "import pandas as pd\n",
        "\n",
        "# --- Load Cassava Base Dataset ---\n",
        "cassava_df = pd.read_csv('CASSAVA.csv')\n",
        "\n",
        "# --- Load and Parse Environmental TXT Files ---\n",
        "\n",
        "# Load Min Temp\n",
        "min_temp_df = pd.read_csv('Min_tempt.txt', delim_whitespace=True)\n",
        "min_temp_df = min_temp_df[['YEAR', 'ANN']].rename(columns={'YEAR': 'Year', 'ANN': 'MinTemp'})\n",
        "\n",
        "# Load Max Temp\n",
        "max_temp_df = pd.read_csv('Max_tempt.txt', delim_whitespace=True)\n",
        "max_temp_df = max_temp_df[['YEAR', 'ANN']].rename(columns={'YEAR': 'Year', 'ANN': 'MaxTemp'})\n",
        "\n",
        "# Load Rainfall\n",
        "rain_df = pd.read_csv('Rainfall.txt', delim_whitespace=True)\n",
        "rain_df = rain_df[['YEAR', 'ANN']].rename(columns={'YEAR': 'Year', 'ANN': 'Rainfall'})\n",
        "\n",
        "# --- Merge All on 'Year' ---\n",
        "merged_df = cassava_df.merge(min_temp_df, on='Year') \\\n",
        "                      .merge(max_temp_df, on='Year') \\\n",
        "                      .merge(rain_df, on='Year')\n",
        "\n",
        "# ✅ View Final Enriched Dataset\n",
        "print(merged_df.head())\n",
        "\n",
        "# Save to CSV\n",
        "# merged_df.to_csv('CASSAVA_enriched.csv', index=False)\n"
      ],
      "metadata": {
        "colab": {
          "base_uri": "https://localhost:8080/"
        },
        "id": "vEhANtjMgYKE",
        "outputId": "454181d5-26e3-4feb-c216-55990573ea80"
      },
      "execution_count": 1,
      "outputs": [
        {
          "output_type": "stream",
          "name": "stdout",
          "text": [
            "   Year  PRODUCTION   AREA   YIELD  MinTemp  MaxTemp  Rainfall\n",
            "0  1991      1106.2  81.34  13.599    14.32    33.87      4.34\n",
            "1  1992      1207.6  82.26  14.680    12.16    34.68      4.58\n",
            "2  1993      1310.2  87.37  14.995    14.18    32.92      5.14\n",
            "3  1994      1304.7  83.49  15.550    14.53    32.65      5.37\n",
            "4  1995      1354.3  81.54  16.609    15.92    32.33      6.21\n"
          ]
        },
        {
          "output_type": "stream",
          "name": "stderr",
          "text": [
            "<ipython-input-1-f14055169a40>:9: FutureWarning: The 'delim_whitespace' keyword in pd.read_csv is deprecated and will be removed in a future version. Use ``sep='\\s+'`` instead\n",
            "  min_temp_df = pd.read_csv('Min_tempt.txt', delim_whitespace=True)\n",
            "<ipython-input-1-f14055169a40>:13: FutureWarning: The 'delim_whitespace' keyword in pd.read_csv is deprecated and will be removed in a future version. Use ``sep='\\s+'`` instead\n",
            "  max_temp_df = pd.read_csv('Max_tempt.txt', delim_whitespace=True)\n",
            "<ipython-input-1-f14055169a40>:17: FutureWarning: The 'delim_whitespace' keyword in pd.read_csv is deprecated and will be removed in a future version. Use ``sep='\\s+'`` instead\n",
            "  rain_df = pd.read_csv('Rainfall.txt', delim_whitespace=True)\n"
          ]
        }
      ]
    },
    {
      "cell_type": "code",
      "source": [
        "import pandas as pd\n",
        "\n",
        "# --- Load Cassava Base Dataset ---\n",
        "cassava_df = pd.read_csv('CASSAVA.csv')\n",
        "\n",
        "# --- Load and Parse Environmental TXT Files ---\n",
        "\n",
        "# Load Min Temp\n",
        "min_temp_df = pd.read_csv('Min_tempt.txt', delim_whitespace=True)\n",
        "min_temp_df = min_temp_df[['YEAR', 'ANN']].rename(columns={'YEAR': 'Year', 'ANN': 'MinTemp'})\n",
        "\n",
        "# Load Max Temp\n",
        "max_temp_df = pd.read_csv('Max_tempt.txt', delim_whitespace=True)\n",
        "max_temp_df = max_temp_df[['YEAR', 'ANN']].rename(columns={'YEAR': 'Year', 'ANN': 'MaxTemp'})\n",
        "\n",
        "# Load Rainfall\n",
        "rain_df = pd.read_csv('Rainfall.txt', delim_whitespace=True)\n",
        "rain_df = rain_df[['YEAR', 'ANN']].rename(columns={'YEAR': 'Year', 'ANN': 'Rainfall'})\n",
        "\n",
        "# --- Merge Environmental Data with Cassava ---\n",
        "cassava_df = cassava_df.merge(min_temp_df, on='Year') \\\n",
        "                       .merge(max_temp_df, on='Year') \\\n",
        "                       .merge(rain_df, on='Year')\n",
        "\n",
        "cassava_df['Crop'] = 'Cassava'\n",
        "\n",
        "# --- Load and Prepare Cocoa Dataset ---\n",
        "cocoa_df = pd.read_excel('COCOA DATA.xlsx')  # Adjust sheet name if necessary\n",
        "cocoa_df = cocoa_df.rename(columns=str.upper)  # Standardize column names\n",
        "cocoa_df = cocoa_df[['YEAR', 'PRODUCTION', 'AREA', 'YIELD']] \\\n",
        "                   .rename(columns={'YEAR': 'Year'})\n",
        "\n",
        "# Merge environmental data with Cocoa\n",
        "cocoa_df = cocoa_df.merge(min_temp_df, on='Year') \\\n",
        "                   .merge(max_temp_df, on='Year') \\\n",
        "                   .merge(rain_df, on='Year')\n",
        "\n",
        "cocoa_df['Crop'] = 'Cocoa'\n",
        "\n",
        "# --- Combine Cassava and Cocoa Datasets ---\n",
        "combined_df = pd.concat([cassava_df, cocoa_df], ignore_index=True)\n",
        "\n",
        "# ✅ View Final Dataset\n",
        "print(combined_df.head())\n",
        "\n",
        "# Save to CSV\n",
        "combined_df.to_csv('Cassava_Cocoa_Combined.csv', index=False)"
      ],
      "metadata": {
        "colab": {
          "base_uri": "https://localhost:8080/"
        },
        "id": "lBenxolGvtnk",
        "outputId": "54f1e531-8db4-4677-b905-4a17afe05af3"
      },
      "execution_count": 1,
      "outputs": [
        {
          "output_type": "stream",
          "name": "stderr",
          "text": [
            "<ipython-input-1-5c411c4267a1>:9: FutureWarning: The 'delim_whitespace' keyword in pd.read_csv is deprecated and will be removed in a future version. Use ``sep='\\s+'`` instead\n",
            "  min_temp_df = pd.read_csv('Min_tempt.txt', delim_whitespace=True)\n",
            "<ipython-input-1-5c411c4267a1>:13: FutureWarning: The 'delim_whitespace' keyword in pd.read_csv is deprecated and will be removed in a future version. Use ``sep='\\s+'`` instead\n",
            "  max_temp_df = pd.read_csv('Max_tempt.txt', delim_whitespace=True)\n",
            "<ipython-input-1-5c411c4267a1>:17: FutureWarning: The 'delim_whitespace' keyword in pd.read_csv is deprecated and will be removed in a future version. Use ``sep='\\s+'`` instead\n",
            "  rain_df = pd.read_csv('Rainfall.txt', delim_whitespace=True)\n"
          ]
        },
        {
          "output_type": "stream",
          "name": "stdout",
          "text": [
            "   Year  PRODUCTION   AREA   YIELD  MinTemp  MaxTemp  Rainfall     Crop\n",
            "0  1991      1106.2  81.34  13.599    14.32    33.87      4.34  Cassava\n",
            "1  1992      1207.6  82.26  14.680    12.16    34.68      4.58  Cassava\n",
            "2  1993      1310.2  87.37  14.995    14.18    32.92      5.14  Cassava\n",
            "3  1994      1304.7  83.49  15.550    14.53    32.65      5.37  Cassava\n",
            "4  1995      1354.3  81.54  16.609    15.92    32.33      6.21  Cassava\n"
          ]
        }
      ]
    },
    {
      "cell_type": "code",
      "source": [
        "# Import libraries\n",
        "import pandas as pd\n",
        "import numpy as np\n",
        "from sdv.metadata import Metadata\n",
        "from sdv.single_table import GaussianCopulaSynthesizer\n",
        "\n",
        "# Load Cassava Dataset\n",
        "cassava_df = pd.read_csv('CASSAVA.csv')\n",
        "\n",
        "# Load Environmental Data\n",
        "min_temp_df = pd.read_csv('Min_tempt.txt', delim_whitespace=True)\n",
        "min_temp_df = min_temp_df[['YEAR', 'ANN']].rename(columns={'YEAR': 'Year', 'ANN': 'MinTemp'})\n",
        "\n",
        "max_temp_df = pd.read_csv('Max_tempt.txt', delim_whitespace=True)\n",
        "max_temp_df = max_temp_df[['YEAR', 'ANN']].rename(columns={'YEAR': 'Year', 'ANN': 'MaxTemp'})\n",
        "\n",
        "rain_df = pd.read_csv('Rainfall.txt', delim_whitespace=True)\n",
        "rain_df = rain_df[['YEAR', 'ANN']].rename(columns={'YEAR': 'Year', 'ANN': 'Rainfall'})\n",
        "\n",
        "# Merge with Cassava\n",
        "cassava_df = cassava_df.merge(min_temp_df, on='Year') \\\n",
        "                       .merge(max_temp_df, on='Year') \\\n",
        "                       .merge(rain_df, on='Year')\n",
        "cassava_df['Crop'] = 'Cassava'\n",
        "\n",
        "# Load and Merge Cocoa Dataset\n",
        "cocoa_df = pd.read_excel('COCOA DATA.xlsx')  # Upload this to Colab\n",
        "cocoa_df = cocoa_df.rename(columns=str.upper)\n",
        "cocoa_df = cocoa_df[['YEAR', 'PRODUCTION', 'AREA', 'YIELD']] \\\n",
        "                   .rename(columns={'YEAR': 'Year'})\n",
        "cocoa_df = cocoa_df.merge(min_temp_df, on='Year') \\\n",
        "                   .merge(max_temp_df, on='Year') \\\n",
        "                   .merge(rain_df, on='Year')\n",
        "cocoa_df['Crop'] = 'Cocoa'\n",
        "\n",
        "# Combine Cassava + Cocoa\n",
        "combined_df = pd.concat([cassava_df, cocoa_df], ignore_index=True)\n",
        "\n",
        "# Train SDV Model (without 'Year')\n",
        "train_df = combined_df.drop(columns=['Year'])\n",
        "\n",
        "# Create metadata\n",
        "metadata = Metadata.detect_from_dataframe(train_df)\n",
        "\n",
        "# Initialize and train synthesizer\n",
        "synthesizer = GaussianCopulaSynthesizer(metadata)\n",
        "synthesizer.fit(train_df)\n",
        "\n",
        "# Generate 1000 synthetic rows\n",
        "synthetic_df = synthesizer.sample(num_rows=1000)\n",
        "\n",
        "# Add Year back (1991–2000 repeated 100×)\n",
        "synthetic_df['Year'] = list(range(1991, 2001)) * 100\n",
        "\n",
        "# View and Save\n",
        "print(synthetic_df.head())\n",
        "synthetic_df.to_csv('Synthetic_Combined_Data.csv', index=False)\n",
        "\n",
        "# (Optional) Download the file\n",
        "from google.colab import files\n",
        "files.download('Synthetic_Combined_Data.csv')"
      ],
      "metadata": {
        "colab": {
          "base_uri": "https://localhost:8080/",
          "height": 280
        },
        "id": "ioxIipUg0nkP",
        "outputId": "46bc1376-a884-4da1-9654-f20c34a54bc0"
      },
      "execution_count": 1,
      "outputs": [
        {
          "output_type": "stream",
          "name": "stderr",
          "text": [
            "<ipython-input-1-e198cd35c4bf>:11: FutureWarning: The 'delim_whitespace' keyword in pd.read_csv is deprecated and will be removed in a future version. Use ``sep='\\s+'`` instead\n",
            "  min_temp_df = pd.read_csv('Min_tempt.txt', delim_whitespace=True)\n",
            "<ipython-input-1-e198cd35c4bf>:14: FutureWarning: The 'delim_whitespace' keyword in pd.read_csv is deprecated and will be removed in a future version. Use ``sep='\\s+'`` instead\n",
            "  max_temp_df = pd.read_csv('Max_tempt.txt', delim_whitespace=True)\n",
            "<ipython-input-1-e198cd35c4bf>:17: FutureWarning: The 'delim_whitespace' keyword in pd.read_csv is deprecated and will be removed in a future version. Use ``sep='\\s+'`` instead\n",
            "  rain_df = pd.read_csv('Rainfall.txt', delim_whitespace=True)\n",
            "/usr/local/lib/python3.11/dist-packages/sdv/single_table/base.py:128: UserWarning: We strongly recommend saving the metadata using 'save_to_json' for replicability in future SDV versions.\n",
            "  warnings.warn(\n"
          ]
        },
        {
          "output_type": "stream",
          "name": "stdout",
          "text": [
            "   PRODUCTION     AREA    YIELD  MinTemp  MaxTemp  Rainfall     Crop  Year\n",
            "0    1912.779  111.146  22.6051    14.80    33.71      3.86  Cassava  1991\n",
            "1     268.152   81.920   4.5964    13.24    32.57      4.86    Cocoa  1992\n",
            "2     219.641  244.120   2.8172    15.73    33.14      4.30    Cocoa  1993\n",
            "3     172.733   85.231  12.9739    13.52    32.12      2.86    Cocoa  1994\n",
            "4    3028.075  348.017   8.3298    15.17    32.08      5.32    Cocoa  1995\n"
          ]
        },
        {
          "output_type": "display_data",
          "data": {
            "text/plain": [
              "<IPython.core.display.Javascript object>"
            ],
            "application/javascript": [
              "\n",
              "    async function download(id, filename, size) {\n",
              "      if (!google.colab.kernel.accessAllowed) {\n",
              "        return;\n",
              "      }\n",
              "      const div = document.createElement('div');\n",
              "      const label = document.createElement('label');\n",
              "      label.textContent = `Downloading \"${filename}\": `;\n",
              "      div.appendChild(label);\n",
              "      const progress = document.createElement('progress');\n",
              "      progress.max = size;\n",
              "      div.appendChild(progress);\n",
              "      document.body.appendChild(div);\n",
              "\n",
              "      const buffers = [];\n",
              "      let downloaded = 0;\n",
              "\n",
              "      const channel = await google.colab.kernel.comms.open(id);\n",
              "      // Send a message to notify the kernel that we're ready.\n",
              "      channel.send({})\n",
              "\n",
              "      for await (const message of channel.messages) {\n",
              "        // Send a message to notify the kernel that we're ready.\n",
              "        channel.send({})\n",
              "        if (message.buffers) {\n",
              "          for (const buffer of message.buffers) {\n",
              "            buffers.push(buffer);\n",
              "            downloaded += buffer.byteLength;\n",
              "            progress.value = downloaded;\n",
              "          }\n",
              "        }\n",
              "      }\n",
              "      const blob = new Blob(buffers, {type: 'application/binary'});\n",
              "      const a = document.createElement('a');\n",
              "      a.href = window.URL.createObjectURL(blob);\n",
              "      a.download = filename;\n",
              "      div.appendChild(a);\n",
              "      a.click();\n",
              "      div.remove();\n",
              "    }\n",
              "  "
            ]
          },
          "metadata": {}
        },
        {
          "output_type": "display_data",
          "data": {
            "text/plain": [
              "<IPython.core.display.Javascript object>"
            ],
            "application/javascript": [
              "download(\"download_62b8fd23-8882-403c-80cc-426b303df23b\", \"Synthetic_Combined_Data.csv\", 51913)"
            ]
          },
          "metadata": {}
        }
      ]
    },
    {
      "cell_type": "code",
      "source": [
        "# Install required packages\n",
        "!pip install scikit-learn pandas matplotlib seaborn\n",
        "\n",
        "# Import libraries\n",
        "import pandas as pd\n",
        "from sklearn.ensemble import RandomForestRegressor\n",
        "from sklearn.model_selection import train_test_split\n",
        "from sklearn.preprocessing import LabelEncoder\n",
        "# from sklearn.metrics import mean_squared_error, r2_score\n",
        "from sklearn.metrics import mean_absolute_error, mean_squared_error, r2_score\n",
        "import matplotlib.pyplot as plt\n",
        "import seaborn as sns\n",
        "import numpy as np\n",
        "\n",
        "# Load your synthetic dataset\n",
        "df = pd.read_csv('Synthetic_Combined_Data.csv')\n",
        "\n",
        "# Encode categorical column ('Crop')\n",
        "le = LabelEncoder()\n",
        "df['Crop'] = le.fit_transform(df['Crop'])  # Cassava = 0, Cocoa = 1\n",
        "\n",
        "# Define features and target\n",
        "X = df.drop(columns=['YIELD'])  # all features\n",
        "y = df['YIELD']                 # target: crop yield\n",
        "\n",
        "# Train-test split\n",
        "X_train, X_test, y_train, y_test = train_test_split(\n",
        "    X, y, test_size=0.2, random_state=42\n",
        ")\n",
        "\n",
        "# Train the Random Forest model\n",
        "model = RandomForestRegressor(n_estimators=100, random_state=42)\n",
        "model.fit(X_train, y_train)\n",
        "\n",
        "# Evaluate the model\n",
        "y_pred = model.predict(X_test)\n",
        "mae = mean_absolute_error(y_test, y_pred)\n",
        "mse = mean_squared_error(y_test, y_pred)\n",
        "rmse = np.sqrt(mse)\n",
        "r2 = r2_score(y_test, y_pred)\n",
        "\n",
        "\n",
        "print(f\"✅ MAE: {mae:.2f}\")\n",
        "print(f\"✅ RMSE: {rmse:.2f}\")\n",
        "print(f\"✅ R²: {r2:.2f}\")\n",
        "\n",
        "# Plot Actual vs Predicted\n",
        "plt.figure(figsize=(6, 6))\n",
        "sns.scatterplot(x=y_test, y=y_pred)\n",
        "plt.xlabel(\"Actual YIELD\")\n",
        "plt.ylabel(\"Predicted YIELD\")\n",
        "plt.title(\"Actual vs Predicted Crop Yield\")\n",
        "plt.grid(True)\n",
        "plt.show()\n",
        "\n",
        "# Feature Importance\n",
        "feature_importance = pd.Series(model.feature_importances_, index=X.columns).sort_values(ascending=False)\n",
        "plt.figure(figsize=(8, 5))\n",
        "sns.barplot(x=feature_importance.values, y=feature_importance.index)\n",
        "plt.title(\"Feature Importance in Predicting Crop Yield\")\n",
        "plt.xlabel(\"Importance Score\")\n",
        "plt.ylabel(\"Features\")\n",
        "plt.grid(True)\n",
        "plt.show()"
      ],
      "metadata": {
        "colab": {
          "base_uri": "https://localhost:8080/",
          "height": 1000
        },
        "id": "jGx0tWn86LBa",
        "outputId": "1d501f5d-0e6a-48d2-a948-130491df9ffa"
      },
      "execution_count": 1,
      "outputs": [
        {
          "output_type": "stream",
          "name": "stdout",
          "text": [
            "Requirement already satisfied: scikit-learn in /usr/local/lib/python3.11/dist-packages (1.6.1)\n",
            "Requirement already satisfied: pandas in /usr/local/lib/python3.11/dist-packages (2.2.2)\n",
            "Requirement already satisfied: matplotlib in /usr/local/lib/python3.11/dist-packages (3.10.0)\n",
            "Requirement already satisfied: seaborn in /usr/local/lib/python3.11/dist-packages (0.13.2)\n",
            "Requirement already satisfied: numpy>=1.19.5 in /usr/local/lib/python3.11/dist-packages (from scikit-learn) (2.0.2)\n",
            "Requirement already satisfied: scipy>=1.6.0 in /usr/local/lib/python3.11/dist-packages (from scikit-learn) (1.15.3)\n",
            "Requirement already satisfied: joblib>=1.2.0 in /usr/local/lib/python3.11/dist-packages (from scikit-learn) (1.5.1)\n",
            "Requirement already satisfied: threadpoolctl>=3.1.0 in /usr/local/lib/python3.11/dist-packages (from scikit-learn) (3.6.0)\n",
            "Requirement already satisfied: python-dateutil>=2.8.2 in /usr/local/lib/python3.11/dist-packages (from pandas) (2.9.0.post0)\n",
            "Requirement already satisfied: pytz>=2020.1 in /usr/local/lib/python3.11/dist-packages (from pandas) (2025.2)\n",
            "Requirement already satisfied: tzdata>=2022.7 in /usr/local/lib/python3.11/dist-packages (from pandas) (2025.2)\n",
            "Requirement already satisfied: contourpy>=1.0.1 in /usr/local/lib/python3.11/dist-packages (from matplotlib) (1.3.2)\n",
            "Requirement already satisfied: cycler>=0.10 in /usr/local/lib/python3.11/dist-packages (from matplotlib) (0.12.1)\n",
            "Requirement already satisfied: fonttools>=4.22.0 in /usr/local/lib/python3.11/dist-packages (from matplotlib) (4.58.1)\n",
            "Requirement already satisfied: kiwisolver>=1.3.1 in /usr/local/lib/python3.11/dist-packages (from matplotlib) (1.4.8)\n",
            "Requirement already satisfied: packaging>=20.0 in /usr/local/lib/python3.11/dist-packages (from matplotlib) (24.2)\n",
            "Requirement already satisfied: pillow>=8 in /usr/local/lib/python3.11/dist-packages (from matplotlib) (11.2.1)\n",
            "Requirement already satisfied: pyparsing>=2.3.1 in /usr/local/lib/python3.11/dist-packages (from matplotlib) (3.2.3)\n",
            "Requirement already satisfied: six>=1.5 in /usr/local/lib/python3.11/dist-packages (from python-dateutil>=2.8.2->pandas) (1.17.0)\n",
            "✅ MAE: 6.10\n",
            "✅ RMSE: 7.75\n",
            "✅ R²: 0.48\n"
          ]
        },
        {
          "output_type": "display_data",
          "data": {
            "text/plain": [
              "<Figure size 600x600 with 1 Axes>"
            ],
            "image/png": "[encoded data removed]"
          },
          "metadata": {}
        },
        {
          "output_type": "display_data",
          "data": {
            "text/plain": [
              "<Figure size 800x500 with 1 Axes>"
            ],
            "image/png": "[encoded data removed]"
          },
          "metadata": {}
        }
      ]
    }
  ]
}